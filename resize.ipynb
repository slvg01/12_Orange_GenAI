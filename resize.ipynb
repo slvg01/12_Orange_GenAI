{
 "cells": [
  {
   "cell_type": "code",
   "execution_count": 1,
   "metadata": {},
   "outputs": [
    {
     "name": "stdout",
     "output_type": "stream",
     "text": [
      "(1152, 896)\n"
     ]
    }
   ],
   "source": [
    "\n",
    "from PIL import Image\n",
    "image = Image.open(\"app/frontend/public/extracted/Jean/2024-06-12_18-35-21_6688.png\")\n",
    "print(image.size)"
   ]
  },
  {
   "cell_type": "code",
   "execution_count": 2,
   "metadata": {},
   "outputs": [],
   "source": [
    "from PIL import Image\n",
    "\n",
    "def resize_image_with_aspect_ratio(image_path, output_path, base_width):\n",
    "    # Charger l'image\n",
    "    image = Image.open(image_path)\n",
    "    \n",
    "    # Calculer le ratio d'aspect\n",
    "    w_percent = (base_width / float(image.size[0]))\n",
    "    h_size = int((float(image.size[1]) * float(w_percent)))\n",
    "    \n",
    "    # Redimensionner l'image avec LANCZOS pour les versions récentes de Pillow\n",
    "    resized_image = image.resize((base_width, h_size), Image.Resampling.LANCZOS)\n",
    "    \n",
    "    # Enregistrer l'image redimensionnée\n",
    "    resized_image.save(output_path)\n",
    "    \n",
    "    # Afficher l'image redimensionnée (optionnel)\n",
    "    resized_image.show()\n",
    "\n",
    "# Exemple d'utilisation\n",
    "resize_image_with_aspect_ratio(\"app/frontend/public/extracted/Jean/2024-06-12_18-35-21_6688.png\", \"resized_magician.png\", 500)\n"
   ]
  }
 ],
 "metadata": {
  "kernelspec": {
   "display_name": "base",
   "language": "python",
   "name": "python3"
  },
  "language_info": {
   "codemirror_mode": {
    "name": "ipython",
    "version": 3
   },
   "file_extension": ".py",
   "mimetype": "text/x-python",
   "name": "python",
   "nbconvert_exporter": "python",
   "pygments_lexer": "ipython3",
   "version": "3.11.7"
  }
 },
 "nbformat": 4,
 "nbformat_minor": 2
}
