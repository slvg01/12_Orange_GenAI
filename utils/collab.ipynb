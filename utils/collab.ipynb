{
 "cells": [
  {
   "cell_type": "code",
   "execution_count": null,
   "metadata": {},
   "outputs": [],
   "source": [
    "#installing foocus from theior promoter git and run it with default models\n",
    "!pip install pygit2==1.12.2\n",
    "from google.colab import drive\n",
    "drive.mount('/content/drive')\n",
    "%cd /content/drive/MyDrive\n",
    "!git clone https://github.com/lllyasviel/Fooocus.git\n",
    "%cd Fooocus\n",
    "!python entry_with_update.py --share --always-high-vram --preset realistic"
   ]
  },
  {
   "cell_type": "code",
   "execution_count": null,
   "metadata": {},
   "outputs": [],
   "source": [
    "# to download model from civitai\n",
    "from google.colab import userdata\n",
    "token = userdata.get('CVT')   :                   # here you need to ensure that your CIVITAI token is stored in the Collab Secret Manager with the key 'CVT'\n",
    "\n",
    "# here are some of the  models we have used\n",
    "#!wget -O /content/drive/MyDrive/Fooocus/models/checkpoints/mobius.safetensors https://civitai.com/api/download/models/545562?token={token}\n",
    "#!wget -O /content/drive/MyDrive/Fooocus/models/checkpoints/Realistic_vision_V6B1.safetensors https://civitai.com/api/download/models/501240?token={token}\n",
    "#!wget -O /content/drive/MyDrive/Fooocus/models/loras/cinematic_photography.safetensors https://civitai.com/api/download/models/242179?token={token}\n",
    "#!wget -O /content/drive/MyDrive/Fooocus/models/loras/perfect_eyes.safetensors https://civitai.com/api/download/models/128461?token={token}\n"
   ]
  },
  {
   "cell_type": "code",
   "execution_count": null,
   "metadata": {},
   "outputs": [],
   "source": [
    "#RERUN after installation of your model \n",
    "!python entry_with_update.py --share --always-high-vram --preset realistic"
   ]
  }
 ],
 "metadata": {
  "kernelspec": {
   "display_name": "venv_orange",
   "language": "python",
   "name": "python3"
  },
  "language_info": {
   "codemirror_mode": {
    "name": "ipython",
    "version": 3
   },
   "file_extension": ".py",
   "mimetype": "text/x-python",
   "name": "python",
   "nbconvert_exporter": "python",
   "pygments_lexer": "ipython3",
   "version": "3.11.7"
  }
 },
 "nbformat": 4,
 "nbformat_minor": 2
}
